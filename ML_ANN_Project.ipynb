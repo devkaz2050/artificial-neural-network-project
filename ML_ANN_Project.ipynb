{
 "cells": [
  {
   "cell_type": "code",
   "execution_count": 1,
   "metadata": {},
   "outputs": [],
   "source": [
    "# Importing Data Analysis Librarys\n",
    "import numpy as np\n",
    "import pandas as pd\n",
    "import matplotlib.pyplot as plt\n",
    "import seaborn as sns\n",
    "%matplotlib inline\n",
    "import warnings\n",
    "warnings.filterwarnings(\"ignore\")"
   ]
  },
  {
   "cell_type": "markdown",
   "metadata": {},
   "source": [
    "## 1. Overview of the Dataset"
   ]
  },
  {
   "cell_type": "markdown",
   "metadata": {},
   "source": [
    "There are 17 variable, including 16 features and the class variable. A description of all the features in the dataset is well given in the data source which can be found from the UCI Machine Learning Repository.\n",
    "When observing the dataset, we can see that the dataset contains categorical nominal values (such as job, marital status, housing loan availability etc.), categorical ordinal values (such as education, where an order can be identified from lowest point to higher point), and finally, discrete and continuous values.\n",
    "Checking the class value counts to get an idea how many classes are there and how many values are there for each class label in the dataset."
   ]
  },
  {
   "cell_type": "code",
   "execution_count": 2,
   "metadata": {},
   "outputs": [
    {
     "data": {
      "text/html": [
       "<div>\n",
       "<style scoped>\n",
       "    .dataframe tbody tr th:only-of-type {\n",
       "        vertical-align: middle;\n",
       "    }\n",
       "\n",
       "    .dataframe tbody tr th {\n",
       "        vertical-align: top;\n",
       "    }\n",
       "\n",
       "    .dataframe thead th {\n",
       "        text-align: right;\n",
       "    }\n",
       "</style>\n",
       "<table border=\"1\" class=\"dataframe\">\n",
       "  <thead>\n",
       "    <tr style=\"text-align: right;\">\n",
       "      <th></th>\n",
       "      <th>age</th>\n",
       "      <th>marital</th>\n",
       "      <th>education</th>\n",
       "      <th>default</th>\n",
       "      <th>balance</th>\n",
       "      <th>housing</th>\n",
       "      <th>loan</th>\n",
       "      <th>contact</th>\n",
       "      <th>duration</th>\n",
       "      <th>campaign</th>\n",
       "      <th>pdays</th>\n",
       "      <th>previous</th>\n",
       "      <th>poutcome</th>\n",
       "      <th>y</th>\n",
       "    </tr>\n",
       "  </thead>\n",
       "  <tbody>\n",
       "    <tr>\n",
       "      <th>0</th>\n",
       "      <td>33</td>\n",
       "      <td>1</td>\n",
       "      <td>2</td>\n",
       "      <td>no</td>\n",
       "      <td>882</td>\n",
       "      <td>no</td>\n",
       "      <td>no</td>\n",
       "      <td>1</td>\n",
       "      <td>39</td>\n",
       "      <td>1</td>\n",
       "      <td>151</td>\n",
       "      <td>3</td>\n",
       "      <td>0</td>\n",
       "      <td>no</td>\n",
       "    </tr>\n",
       "    <tr>\n",
       "      <th>1</th>\n",
       "      <td>42</td>\n",
       "      <td>0</td>\n",
       "      <td>1</td>\n",
       "      <td>no</td>\n",
       "      <td>-247</td>\n",
       "      <td>yes</td>\n",
       "      <td>yes</td>\n",
       "      <td>1</td>\n",
       "      <td>519</td>\n",
       "      <td>1</td>\n",
       "      <td>166</td>\n",
       "      <td>1</td>\n",
       "      <td>2</td>\n",
       "      <td>yes</td>\n",
       "    </tr>\n",
       "    <tr>\n",
       "      <th>2</th>\n",
       "      <td>33</td>\n",
       "      <td>1</td>\n",
       "      <td>1</td>\n",
       "      <td>no</td>\n",
       "      <td>3444</td>\n",
       "      <td>yes</td>\n",
       "      <td>no</td>\n",
       "      <td>1</td>\n",
       "      <td>144</td>\n",
       "      <td>1</td>\n",
       "      <td>91</td>\n",
       "      <td>4</td>\n",
       "      <td>0</td>\n",
       "      <td>yes</td>\n",
       "    </tr>\n",
       "    <tr>\n",
       "      <th>3</th>\n",
       "      <td>36</td>\n",
       "      <td>1</td>\n",
       "      <td>2</td>\n",
       "      <td>no</td>\n",
       "      <td>2415</td>\n",
       "      <td>yes</td>\n",
       "      <td>no</td>\n",
       "      <td>1</td>\n",
       "      <td>73</td>\n",
       "      <td>1</td>\n",
       "      <td>86</td>\n",
       "      <td>4</td>\n",
       "      <td>2</td>\n",
       "      <td>no</td>\n",
       "    </tr>\n",
       "    <tr>\n",
       "      <th>4</th>\n",
       "      <td>36</td>\n",
       "      <td>1</td>\n",
       "      <td>2</td>\n",
       "      <td>no</td>\n",
       "      <td>0</td>\n",
       "      <td>yes</td>\n",
       "      <td>no</td>\n",
       "      <td>1</td>\n",
       "      <td>140</td>\n",
       "      <td>1</td>\n",
       "      <td>143</td>\n",
       "      <td>3</td>\n",
       "      <td>0</td>\n",
       "      <td>yes</td>\n",
       "    </tr>\n",
       "  </tbody>\n",
       "</table>\n",
       "</div>"
      ],
      "text/plain": [
       "   age  marital  education default  balance housing loan  contact  duration  \\\n",
       "0   33        1          2      no      882      no   no        1        39   \n",
       "1   42        0          1      no     -247     yes  yes        1       519   \n",
       "2   33        1          1      no     3444     yes   no        1       144   \n",
       "3   36        1          2      no     2415     yes   no        1        73   \n",
       "4   36        1          2      no        0     yes   no        1       140   \n",
       "\n",
       "   campaign  pdays  previous  poutcome    y  \n",
       "0         1    151         3         0   no  \n",
       "1         1    166         1         2  yes  \n",
       "2         1     91         4         0  yes  \n",
       "3         1     86         4         2   no  \n",
       "4         1    143         3         0  yes  "
      ]
     },
     "execution_count": 2,
     "metadata": {},
     "output_type": "execute_result"
    }
   ],
   "source": [
    "df = pd.read_csv('as1-bank.csv') \n",
    "df.head(5)"
   ]
  },
  {
   "cell_type": "code",
   "execution_count": 3,
   "metadata": {},
   "outputs": [
    {
     "data": {
      "text/html": [
       "<div>\n",
       "<style scoped>\n",
       "    .dataframe tbody tr th:only-of-type {\n",
       "        vertical-align: middle;\n",
       "    }\n",
       "\n",
       "    .dataframe tbody tr th {\n",
       "        vertical-align: top;\n",
       "    }\n",
       "\n",
       "    .dataframe thead th {\n",
       "        text-align: right;\n",
       "    }\n",
       "</style>\n",
       "<table border=\"1\" class=\"dataframe\">\n",
       "  <thead>\n",
       "    <tr style=\"text-align: right;\">\n",
       "      <th></th>\n",
       "      <th>age</th>\n",
       "      <th>marital</th>\n",
       "      <th>education</th>\n",
       "      <th>balance</th>\n",
       "      <th>contact</th>\n",
       "      <th>duration</th>\n",
       "      <th>campaign</th>\n",
       "      <th>pdays</th>\n",
       "      <th>previous</th>\n",
       "      <th>poutcome</th>\n",
       "    </tr>\n",
       "  </thead>\n",
       "  <tbody>\n",
       "    <tr>\n",
       "      <th>count</th>\n",
       "      <td>7842.000000</td>\n",
       "      <td>7842.000000</td>\n",
       "      <td>7842.000000</td>\n",
       "      <td>7842.000000</td>\n",
       "      <td>7842.000000</td>\n",
       "      <td>7842.000000</td>\n",
       "      <td>7842.000000</td>\n",
       "      <td>7842.000000</td>\n",
       "      <td>7842.000000</td>\n",
       "      <td>7842.000000</td>\n",
       "    </tr>\n",
       "    <tr>\n",
       "      <th>mean</th>\n",
       "      <td>40.783856</td>\n",
       "      <td>0.800179</td>\n",
       "      <td>1.206707</td>\n",
       "      <td>1552.343280</td>\n",
       "      <td>0.074598</td>\n",
       "      <td>261.290615</td>\n",
       "      <td>2.064269</td>\n",
       "      <td>223.252869</td>\n",
       "      <td>3.184264</td>\n",
       "      <td>0.626498</td>\n",
       "    </tr>\n",
       "    <tr>\n",
       "      <th>std</th>\n",
       "      <td>11.282964</td>\n",
       "      <td>0.621418</td>\n",
       "      <td>0.649716</td>\n",
       "      <td>3084.580003</td>\n",
       "      <td>0.262759</td>\n",
       "      <td>236.203272</td>\n",
       "      <td>1.566109</td>\n",
       "      <td>111.830127</td>\n",
       "      <td>4.614190</td>\n",
       "      <td>0.824863</td>\n",
       "    </tr>\n",
       "    <tr>\n",
       "      <th>min</th>\n",
       "      <td>18.000000</td>\n",
       "      <td>0.000000</td>\n",
       "      <td>0.000000</td>\n",
       "      <td>-1884.000000</td>\n",
       "      <td>0.000000</td>\n",
       "      <td>5.000000</td>\n",
       "      <td>1.000000</td>\n",
       "      <td>1.000000</td>\n",
       "      <td>1.000000</td>\n",
       "      <td>0.000000</td>\n",
       "    </tr>\n",
       "    <tr>\n",
       "      <th>25%</th>\n",
       "      <td>32.000000</td>\n",
       "      <td>0.000000</td>\n",
       "      <td>1.000000</td>\n",
       "      <td>162.000000</td>\n",
       "      <td>0.000000</td>\n",
       "      <td>113.000000</td>\n",
       "      <td>1.000000</td>\n",
       "      <td>133.000000</td>\n",
       "      <td>1.000000</td>\n",
       "      <td>0.000000</td>\n",
       "    </tr>\n",
       "    <tr>\n",
       "      <th>50%</th>\n",
       "      <td>38.000000</td>\n",
       "      <td>1.000000</td>\n",
       "      <td>1.000000</td>\n",
       "      <td>595.000000</td>\n",
       "      <td>0.000000</td>\n",
       "      <td>194.000000</td>\n",
       "      <td>2.000000</td>\n",
       "      <td>195.000000</td>\n",
       "      <td>2.000000</td>\n",
       "      <td>0.000000</td>\n",
       "    </tr>\n",
       "    <tr>\n",
       "      <th>75%</th>\n",
       "      <td>47.000000</td>\n",
       "      <td>1.000000</td>\n",
       "      <td>2.000000</td>\n",
       "      <td>1733.750000</td>\n",
       "      <td>0.000000</td>\n",
       "      <td>324.000000</td>\n",
       "      <td>2.000000</td>\n",
       "      <td>326.000000</td>\n",
       "      <td>4.000000</td>\n",
       "      <td>1.000000</td>\n",
       "    </tr>\n",
       "    <tr>\n",
       "      <th>max</th>\n",
       "      <td>89.000000</td>\n",
       "      <td>2.000000</td>\n",
       "      <td>2.000000</td>\n",
       "      <td>81204.000000</td>\n",
       "      <td>1.000000</td>\n",
       "      <td>2219.000000</td>\n",
       "      <td>16.000000</td>\n",
       "      <td>871.000000</td>\n",
       "      <td>275.000000</td>\n",
       "      <td>2.000000</td>\n",
       "    </tr>\n",
       "  </tbody>\n",
       "</table>\n",
       "</div>"
      ],
      "text/plain": [
       "               age      marital    education       balance      contact  \\\n",
       "count  7842.000000  7842.000000  7842.000000   7842.000000  7842.000000   \n",
       "mean     40.783856     0.800179     1.206707   1552.343280     0.074598   \n",
       "std      11.282964     0.621418     0.649716   3084.580003     0.262759   \n",
       "min      18.000000     0.000000     0.000000  -1884.000000     0.000000   \n",
       "25%      32.000000     0.000000     1.000000    162.000000     0.000000   \n",
       "50%      38.000000     1.000000     1.000000    595.000000     0.000000   \n",
       "75%      47.000000     1.000000     2.000000   1733.750000     0.000000   \n",
       "max      89.000000     2.000000     2.000000  81204.000000     1.000000   \n",
       "\n",
       "          duration     campaign        pdays     previous     poutcome  \n",
       "count  7842.000000  7842.000000  7842.000000  7842.000000  7842.000000  \n",
       "mean    261.290615     2.064269   223.252869     3.184264     0.626498  \n",
       "std     236.203272     1.566109   111.830127     4.614190     0.824863  \n",
       "min       5.000000     1.000000     1.000000     1.000000     0.000000  \n",
       "25%     113.000000     1.000000   133.000000     1.000000     0.000000  \n",
       "50%     194.000000     2.000000   195.000000     2.000000     0.000000  \n",
       "75%     324.000000     2.000000   326.000000     4.000000     1.000000  \n",
       "max    2219.000000    16.000000   871.000000   275.000000     2.000000  "
      ]
     },
     "execution_count": 3,
     "metadata": {},
     "output_type": "execute_result"
    }
   ],
   "source": [
    "df.describe()"
   ]
  },
  {
   "cell_type": "code",
   "execution_count": 4,
   "metadata": {},
   "outputs": [
    {
     "name": "stdout",
     "output_type": "stream",
     "text": [
      "<class 'pandas.core.frame.DataFrame'>\n",
      "RangeIndex: 7842 entries, 0 to 7841\n",
      "Data columns (total 14 columns):\n",
      " #   Column     Non-Null Count  Dtype \n",
      "---  ------     --------------  ----- \n",
      " 0   age        7842 non-null   int64 \n",
      " 1   marital    7842 non-null   int64 \n",
      " 2   education  7842 non-null   int64 \n",
      " 3   default    7842 non-null   object\n",
      " 4   balance    7842 non-null   int64 \n",
      " 5   housing    7842 non-null   object\n",
      " 6   loan       7842 non-null   object\n",
      " 7   contact    7842 non-null   int64 \n",
      " 8   duration   7842 non-null   int64 \n",
      " 9   campaign   7842 non-null   int64 \n",
      " 10  pdays      7842 non-null   int64 \n",
      " 11  previous   7842 non-null   int64 \n",
      " 12  poutcome   7842 non-null   int64 \n",
      " 13  y          7842 non-null   object\n",
      "dtypes: int64(10), object(4)\n",
      "memory usage: 857.8+ KB\n"
     ]
    }
   ],
   "source": [
    "df.info()"
   ]
  },
  {
   "cell_type": "code",
   "execution_count": 5,
   "metadata": {},
   "outputs": [
    {
     "data": {
      "text/plain": [
       "no     6056\n",
       "yes    1786\n",
       "Name: y, dtype: int64"
      ]
     },
     "execution_count": 5,
     "metadata": {},
     "output_type": "execute_result"
    }
   ],
   "source": [
    "# we use value_counts() to display how many instances are present in the\n",
    "# categorical feature/class variable\n",
    "df['y'].value_counts()"
   ]
  },
  {
   "cell_type": "markdown",
   "metadata": {},
   "source": [
    "## 2. Preprocessing Data"
   ]
  },
  {
   "cell_type": "markdown",
   "metadata": {},
   "source": [
    "Preprocessing data includes handling missing values and outliers, applying feature coding techniques if needed, scale & standardize features.\n",
    "\n",
    "Checking for Missing values"
   ]
  },
  {
   "cell_type": "code",
   "execution_count": 6,
   "metadata": {
    "scrolled": true
   },
   "outputs": [
    {
     "data": {
      "text/plain": [
       "age          False\n",
       "marital      False\n",
       "education    False\n",
       "default      False\n",
       "balance      False\n",
       "housing      False\n",
       "loan         False\n",
       "contact      False\n",
       "duration     False\n",
       "campaign     False\n",
       "pdays        False\n",
       "previous     False\n",
       "poutcome     False\n",
       "y            False\n",
       "dtype: bool"
      ]
     },
     "execution_count": 6,
     "metadata": {},
     "output_type": "execute_result"
    }
   ],
   "source": [
    "# check for missing values in any column\n",
    "df.isnull().any()"
   ]
  },
  {
   "cell_type": "code",
   "execution_count": 7,
   "metadata": {},
   "outputs": [
    {
     "name": "stdout",
     "output_type": "stream",
     "text": [
      "age          0\n",
      "marital      0\n",
      "education    0\n",
      "default      0\n",
      "balance      0\n",
      "housing      0\n",
      "loan         0\n",
      "contact      0\n",
      "duration     0\n",
      "campaign     0\n",
      "pdays        0\n",
      "previous     0\n",
      "poutcome     0\n",
      "y            0\n",
      "dtype: int64\n"
     ]
    }
   ],
   "source": [
    "# total sum of missing values for each attributes\n",
    "print(df.isnull().sum())"
   ]
  },
  {
   "cell_type": "code",
   "execution_count": 8,
   "metadata": {},
   "outputs": [
    {
     "name": "stdout",
     "output_type": "stream",
     "text": [
      "age          0\n",
      "marital      0\n",
      "education    0\n",
      "default      0\n",
      "balance      0\n",
      "housing      0\n",
      "loan         0\n",
      "contact      0\n",
      "duration     0\n",
      "campaign     0\n",
      "pdays        0\n",
      "previous     0\n",
      "poutcome     0\n",
      "y            0\n",
      "dtype: int64\n"
     ]
    }
   ],
   "source": [
    "# Making a list of missing value types\n",
    "missing_values = [\"unknown\"]\n",
    "\n",
    "# reading the data again, with the defined non-standard missing value\n",
    "new_data = pd.read_csv('as1-bank.csv', na_values = missing_values)\n",
    "\n",
    "print(new_data.isnull().sum())"
   ]
  },
  {
   "cell_type": "markdown",
   "metadata": {},
   "source": [
    "## Handling Outliers\n",
    "\n",
    "We check for outliers only in the features that contain numerical values.\n",
    "\n",
    "Checking the 'age' feature for outliers"
   ]
  },
  {
   "cell_type": "code",
   "execution_count": 9,
   "metadata": {},
   "outputs": [
    {
     "name": "stdout",
     "output_type": "stream",
     "text": [
      "<class 'pandas.core.frame.DataFrame'>\n",
      "RangeIndex: 7842 entries, 0 to 7841\n",
      "Data columns (total 10 columns):\n",
      " #   Column     Non-Null Count  Dtype\n",
      "---  ------     --------------  -----\n",
      " 0   age        7842 non-null   int64\n",
      " 1   marital    7842 non-null   int64\n",
      " 2   education  7842 non-null   int64\n",
      " 3   balance    7842 non-null   int64\n",
      " 4   contact    7842 non-null   int64\n",
      " 5   duration   7842 non-null   int64\n",
      " 6   campaign   7842 non-null   int64\n",
      " 7   pdays      7842 non-null   int64\n",
      " 8   previous   7842 non-null   int64\n",
      " 9   poutcome   7842 non-null   int64\n",
      "dtypes: int64(10)\n",
      "memory usage: 612.8 KB\n"
     ]
    }
   ],
   "source": [
    "df_cont = df.select_dtypes(include = np.number)\n",
    "df_cont.info()"
   ]
  },
  {
   "cell_type": "code",
   "execution_count": 10,
   "metadata": {},
   "outputs": [
    {
     "data": {
      "text/plain": [
       "age          1730\n",
       "marital      3341\n",
       "education    3645\n",
       "balance      1689\n",
       "contact      7842\n",
       "duration     1584\n",
       "campaign     4792\n",
       "pdays        1610\n",
       "previous     3647\n",
       "poutcome     6429\n",
       "dtype: int64"
      ]
     },
     "execution_count": 10,
     "metadata": {},
     "output_type": "execute_result"
    }
   ],
   "source": [
    "# Check global outliers using 0.1 quantile and 0.9 quantile\n",
    "min_p = df_cont.quantile(0.1)\n",
    "max_p = df_cont.quantile(0.9)\n",
    "\n",
    "# Column vs Number of Outliers\n",
    "((df_cont <= min_p) | (df_cont >= max_p)).sum()"
   ]
  },
  {
   "cell_type": "code",
   "execution_count": null,
   "metadata": {},
   "outputs": [],
   "source": []
  },
  {
   "cell_type": "code",
   "execution_count": 11,
   "metadata": {},
   "outputs": [
    {
     "name": "stdout",
     "output_type": "stream",
     "text": [
      "Age Shape: (7842, 14)\n"
     ]
    },
    {
     "data": {
      "image/png": "[encoded data removed]",
      "text/plain": [
       "<Figure size 648x432 with 1 Axes>"
      ]
     },
     "metadata": {
      "needs_background": "light"
     },
     "output_type": "display_data"
    }
   ],
   "source": [
    "\n",
    "fig, axes = plt.subplots(figsize=(9, 6))\n",
    "\n",
    "# Checking the box plot for age feature\n",
    "print(\"Age Shape:\",df.shape)\n",
    "## Max and Min Quantile\n",
    "max_val = df.age.quantile(0.75)\n",
    "min_val = df.age.quantile(0.25)\n",
    "\n",
    "sns.boxplot(df['age'])\n",
    "plt.show()"
   ]
  },
  {
   "cell_type": "markdown",
   "metadata": {},
   "source": [
    "When checking the boxplot for the age feature, we can see that there are no significant outliers, and that there are many datapoints that are outside the boxplot. Therefore, i will not be removing the datapoints that are identified here as outliers, since they can carry information in them.\n",
    "\n",
    "Checking the balance feature for outliers"
   ]
  },
  {
   "cell_type": "code",
   "execution_count": 12,
   "metadata": {},
   "outputs": [
    {
     "name": "stdout",
     "output_type": "stream",
     "text": [
      "Before: (7842, 14)\n"
     ]
    },
    {
     "data": {
      "image/png": "[encoded data removed]",
      "text/plain": [
       "<Figure size 864x504 with 1 Axes>"
      ]
     },
     "metadata": {
      "needs_background": "light"
     },
     "output_type": "display_data"
    }
   ],
   "source": [
    "fig, axes = plt.subplots(figsize=(12, 7))\n",
    "# Checking data outlier for balance feature\n",
    "print(\"Before:\",df.shape)\n",
    "sns.boxplot(df['balance'])\n",
    "plt.show()"
   ]
  },
  {
   "cell_type": "markdown",
   "metadata": {},
   "source": [
    "When checking the above visualized boxplot for the balance feature, we can see that eventhough there are many data points outside the boxplot as in the age boxplot, we can point out a range where the datapoints start to spread wider. Therefore, i will manually set the cutoff region for outliers as balance < -5000 and balance > 35000, which is purely out of my discretion."
   ]
  },
  {
   "cell_type": "code",
   "execution_count": 13,
   "metadata": {},
   "outputs": [
    {
     "name": "stdout",
     "output_type": "stream",
     "text": [
      "After: (7838, 14)\n"
     ]
    },
    {
     "data": {
      "image/png": "[encoded data removed]",
      "text/plain": [
       "<Figure size 432x288 with 1 Axes>"
      ]
     },
     "metadata": {
      "needs_background": "light"
     },
     "output_type": "display_data"
    }
   ],
   "source": [
    "# removing data outliers which values greater than 35 000 and less than 5000\n",
    "df = df[(df['balance']>-5000) & (df['balance']<35000)]\n",
    "print(\"After:\",df.shape)\n",
    "sns.boxplot(df['balance'])\n",
    "plt.show()"
   ]
  },
  {
   "cell_type": "code",
   "execution_count": 14,
   "metadata": {},
   "outputs": [
    {
     "name": "stdout",
     "output_type": "stream",
     "text": [
      "Duration Shape: (7838, 14)\n"
     ]
    },
    {
     "data": {
      "image/png": "[encoded data removed]",
      "text/plain": [
       "<Figure size 1440x504 with 1 Axes>"
      ]
     },
     "metadata": {
      "needs_background": "light"
     },
     "output_type": "display_data"
    }
   ],
   "source": [
    "## Checking data outliers for duration feature\n",
    "\n",
    "fig, axes = plt.subplots(figsize=(20, 7))\n",
    "\n",
    "# Checking the box plot for duration feature\n",
    "print(\"Duration Shape:\",df.shape)\n",
    "## Max and Min Quantile\n",
    "max_val = df.balance.quantile(0.75)\n",
    "min_val = df.balance.quantile(0.25)\n",
    "\n",
    "sns.boxplot(df['duration'])\n",
    "plt.show()"
   ]
  },
  {
   "cell_type": "markdown",
   "metadata": {},
   "source": [
    "When checking the above box plot, we can see that, there a significant gap has first occured around the duration value 1300. Therefore i decided to clear the datapoints after duration 1300 as handling outliers in this feature."
   ]
  },
  {
   "cell_type": "code",
   "execution_count": 15,
   "metadata": {},
   "outputs": [
    {
     "name": "stdout",
     "output_type": "stream",
     "text": [
      "After Duration Shape: (7780, 14)\n"
     ]
    },
    {
     "data": {
      "image/png": "[encoded data removed]",
      "text/plain": [
       "<Figure size 432x288 with 1 Axes>"
      ]
     },
     "metadata": {
      "needs_background": "light"
     },
     "output_type": "display_data"
    }
   ],
   "source": [
    "# removing datapoints that have duration values greater than 2600\n",
    "df = df[(df['duration']<1300)]\n",
    "\n",
    "print(\"After Duration Shape:\",df.shape)\n",
    "\n",
    "sns.boxplot(df['duration'])\n",
    "plt.show()"
   ]
  },
  {
   "cell_type": "markdown",
   "metadata": {},
   "source": [
    "Checking outliers in campaign feature"
   ]
  },
  {
   "cell_type": "code",
   "execution_count": 16,
   "metadata": {},
   "outputs": [
    {
     "name": "stdout",
     "output_type": "stream",
     "text": [
      "Before: (7780, 14)\n"
     ]
    },
    {
     "data": {
      "image/png": "[encoded data removed]",
      "text/plain": [
       "<Figure size 648x432 with 1 Axes>"
      ]
     },
     "metadata": {
      "needs_background": "light"
     },
     "output_type": "display_data"
    }
   ],
   "source": [
    "fig, axes = plt.subplots(figsize=(9, 6))\n",
    "\n",
    "## Checking data outliers for campaign attribute\n",
    "print(\"Before:\",df.shape)\n",
    "sns.boxplot(df['campaign'])\n",
    "plt.show()"
   ]
  },
  {
   "cell_type": "markdown",
   "metadata": {},
   "source": [
    "When checking the boxplot visualization, we can see that a break has occured in the datapoints outside the boxplot aroung the campaign count 40. Therefore, i will be clearing the datapoints that has campaign contact count more than 16."
   ]
  },
  {
   "cell_type": "code",
   "execution_count": 17,
   "metadata": {},
   "outputs": [
    {
     "name": "stdout",
     "output_type": "stream",
     "text": [
      "After: (7779, 14)\n"
     ]
    },
    {
     "data": {
      "image/png": "[encoded data removed]",
      "text/plain": [
       "<Figure size 432x288 with 1 Axes>"
      ]
     },
     "metadata": {
      "needs_background": "light"
     },
     "output_type": "display_data"
    }
   ],
   "source": [
    "# removing data outliers that which values greater than 16\n",
    "df = df[(df['campaign']<16)]\n",
    "\n",
    "print(\"After:\",df.shape)\n",
    "\n",
    "sns.boxplot(df['campaign'])\n",
    "plt.show()"
   ]
  },
  {
   "cell_type": "markdown",
   "metadata": {},
   "source": [
    "Checking outliers in pdays feature"
   ]
  },
  {
   "cell_type": "code",
   "execution_count": 18,
   "metadata": {},
   "outputs": [
    {
     "name": "stdout",
     "output_type": "stream",
     "text": [
      "Before: (7779, 14)\n"
     ]
    },
    {
     "data": {
      "image/png": "[encoded data removed]",
      "text/plain": [
       "<Figure size 1440x504 with 1 Axes>"
      ]
     },
     "metadata": {
      "needs_background": "light"
     },
     "output_type": "display_data"
    }
   ],
   "source": [
    "fig, axes = plt.subplots(figsize=(20, 7))\n",
    "\n",
    "# Checking data outliers for pdays feature\n",
    "print(\"Before:\",df.shape)\n",
    "sns.boxplot(df['pdays'])\n",
    "plt.show()"
   ]
  },
  {
   "cell_type": "markdown",
   "metadata": {},
   "source": [
    "We can see that the values has started breaking from a point aroung 600 pdays. Therefore i will be removing the outliers after pdays = 600"
   ]
  },
  {
   "cell_type": "code",
   "execution_count": 19,
   "metadata": {},
   "outputs": [
    {
     "name": "stdout",
     "output_type": "stream",
     "text": [
      "After: (7749, 14)\n"
     ]
    },
    {
     "data": {
      "image/png": "[encoded data removed]",
      "text/plain": [
       "<Figure size 432x288 with 1 Axes>"
      ]
     },
     "metadata": {
      "needs_background": "light"
     },
     "output_type": "display_data"
    }
   ],
   "source": [
    "# removing data outliers that which values greater than 600\n",
    "df = df[(df['pdays']<600)]\n",
    "\n",
    "print(\"After:\",df.shape)\n",
    "\n",
    "sns.boxplot(df['pdays'])\n",
    "plt.show()"
   ]
  },
  {
   "cell_type": "markdown",
   "metadata": {},
   "source": [
    "Checking outliers in the previous feature"
   ]
  },
  {
   "cell_type": "code",
   "execution_count": 20,
   "metadata": {},
   "outputs": [
    {
     "name": "stdout",
     "output_type": "stream",
     "text": [
      "Before: (7749, 14)\n"
     ]
    },
    {
     "data": {
      "image/png": "[encoded data removed]",
      "text/plain": [
       "<Figure size 648x432 with 1 Axes>"
      ]
     },
     "metadata": {
      "needs_background": "light"
     },
     "output_type": "display_data"
    }
   ],
   "source": [
    "fig, axes = plt.subplots(figsize=(9, 6))\n",
    "\n",
    "# Checking the data outliers for previous feature\n",
    "print(\"Before:\",df.shape)\n",
    "sns.boxplot(df['previous'])\n",
    "plt.show()"
   ]
  },
  {
   "cell_type": "markdown",
   "metadata": {},
   "source": [
    "We can see 3 clear outliers after 50 range. Therefore, i will be removing outliers after previous = 50."
   ]
  },
  {
   "cell_type": "code",
   "execution_count": 21,
   "metadata": {},
   "outputs": [
    {
     "name": "stdout",
     "output_type": "stream",
     "text": [
      "After: (7746, 14)\n"
     ]
    },
    {
     "data": {
      "image/png": "[encoded data removed]",
      "text/plain": [
       "<Figure size 432x288 with 1 Axes>"
      ]
     },
     "metadata": {
      "needs_background": "light"
     },
     "output_type": "display_data"
    }
   ],
   "source": [
    "# removing data outliers which values greater than 50\n",
    "df = df[(df['previous']<50)]\n",
    "\n",
    "print(\"After:\",df.shape)\n",
    "\n",
    "sns.boxplot(df['previous'])\n",
    "plt.show()"
   ]
  },
  {
   "cell_type": "markdown",
   "metadata": {},
   "source": [
    "Now, after careful inspection of all the numerical fields (features) in the dataset, i have removed outliers and the remaining number datapoints of datapoints is 7804. Therefore, we have removed 7842 - 7804 = 38 outliers."
   ]
  },
  {
   "cell_type": "markdown",
   "metadata": {},
   "source": [
    "## Feature Enoding\n",
    "\n",
    "In this process, the categorical data are encoded into numerical data. The LabelEncoder is used to encode the class values to integers accordingly as follows."
   ]
  },
  {
   "cell_type": "markdown",
   "metadata": {},
   "source": [
    "Removing Unwanted Features\n",
    "\n",
    "The feature duration contains last contact duration, in seconds.\n",
    "\n",
    "As said by the data source, this attribute highly affects the output target (e.g., if duration=0 then y='no'). Yet, the duration is not known before a call is performed. Also, after the end of the call y is obviously known. Thus, this input should only be included for benchmark purposes and should be discarded if the intention is to have a realistic predictive model.\n",
    "\n",
    "Therefore, i have decided to remove the feature duration from the dataset used for prediction."
   ]
  },
  {
   "cell_type": "code",
   "execution_count": 22,
   "metadata": {},
   "outputs": [],
   "source": [
    "## removing duration feature\n",
    "df.drop(['duration'], inplace=True, axis = 1)\n",
    "\n"
   ]
  },
  {
   "cell_type": "code",
   "execution_count": 23,
   "metadata": {},
   "outputs": [
    {
     "data": {
      "text/html": [
       "<div>\n",
       "<style scoped>\n",
       "    .dataframe tbody tr th:only-of-type {\n",
       "        vertical-align: middle;\n",
       "    }\n",
       "\n",
       "    .dataframe tbody tr th {\n",
       "        vertical-align: top;\n",
       "    }\n",
       "\n",
       "    .dataframe thead th {\n",
       "        text-align: right;\n",
       "    }\n",
       "</style>\n",
       "<table border=\"1\" class=\"dataframe\">\n",
       "  <thead>\n",
       "    <tr style=\"text-align: right;\">\n",
       "      <th></th>\n",
       "      <th>age</th>\n",
       "      <th>marital</th>\n",
       "      <th>education</th>\n",
       "      <th>default</th>\n",
       "      <th>balance</th>\n",
       "      <th>housing</th>\n",
       "      <th>loan</th>\n",
       "      <th>contact</th>\n",
       "      <th>campaign</th>\n",
       "      <th>pdays</th>\n",
       "      <th>previous</th>\n",
       "      <th>poutcome</th>\n",
       "      <th>y</th>\n",
       "    </tr>\n",
       "  </thead>\n",
       "  <tbody>\n",
       "    <tr>\n",
       "      <th>0</th>\n",
       "      <td>33</td>\n",
       "      <td>1</td>\n",
       "      <td>2</td>\n",
       "      <td>no</td>\n",
       "      <td>882</td>\n",
       "      <td>no</td>\n",
       "      <td>no</td>\n",
       "      <td>1</td>\n",
       "      <td>1</td>\n",
       "      <td>151</td>\n",
       "      <td>3</td>\n",
       "      <td>0</td>\n",
       "      <td>no</td>\n",
       "    </tr>\n",
       "    <tr>\n",
       "      <th>1</th>\n",
       "      <td>42</td>\n",
       "      <td>0</td>\n",
       "      <td>1</td>\n",
       "      <td>no</td>\n",
       "      <td>-247</td>\n",
       "      <td>yes</td>\n",
       "      <td>yes</td>\n",
       "      <td>1</td>\n",
       "      <td>1</td>\n",
       "      <td>166</td>\n",
       "      <td>1</td>\n",
       "      <td>2</td>\n",
       "      <td>yes</td>\n",
       "    </tr>\n",
       "    <tr>\n",
       "      <th>2</th>\n",
       "      <td>33</td>\n",
       "      <td>1</td>\n",
       "      <td>1</td>\n",
       "      <td>no</td>\n",
       "      <td>3444</td>\n",
       "      <td>yes</td>\n",
       "      <td>no</td>\n",
       "      <td>1</td>\n",
       "      <td>1</td>\n",
       "      <td>91</td>\n",
       "      <td>4</td>\n",
       "      <td>0</td>\n",
       "      <td>yes</td>\n",
       "    </tr>\n",
       "    <tr>\n",
       "      <th>3</th>\n",
       "      <td>36</td>\n",
       "      <td>1</td>\n",
       "      <td>2</td>\n",
       "      <td>no</td>\n",
       "      <td>2415</td>\n",
       "      <td>yes</td>\n",
       "      <td>no</td>\n",
       "      <td>1</td>\n",
       "      <td>1</td>\n",
       "      <td>86</td>\n",
       "      <td>4</td>\n",
       "      <td>2</td>\n",
       "      <td>no</td>\n",
       "    </tr>\n",
       "    <tr>\n",
       "      <th>4</th>\n",
       "      <td>36</td>\n",
       "      <td>1</td>\n",
       "      <td>2</td>\n",
       "      <td>no</td>\n",
       "      <td>0</td>\n",
       "      <td>yes</td>\n",
       "      <td>no</td>\n",
       "      <td>1</td>\n",
       "      <td>1</td>\n",
       "      <td>143</td>\n",
       "      <td>3</td>\n",
       "      <td>0</td>\n",
       "      <td>yes</td>\n",
       "    </tr>\n",
       "  </tbody>\n",
       "</table>\n",
       "</div>"
      ],
      "text/plain": [
       "   age  marital  education default  balance housing loan  contact  campaign  \\\n",
       "0   33        1          2      no      882      no   no        1         1   \n",
       "1   42        0          1      no     -247     yes  yes        1         1   \n",
       "2   33        1          1      no     3444     yes   no        1         1   \n",
       "3   36        1          2      no     2415     yes   no        1         1   \n",
       "4   36        1          2      no        0     yes   no        1         1   \n",
       "\n",
       "   pdays  previous  poutcome    y  \n",
       "0    151         3         0   no  \n",
       "1    166         1         2  yes  \n",
       "2     91         4         0  yes  \n",
       "3     86         4         2   no  \n",
       "4    143         3         0  yes  "
      ]
     },
     "execution_count": 23,
     "metadata": {},
     "output_type": "execute_result"
    }
   ],
   "source": [
    "df.head()"
   ]
  },
  {
   "cell_type": "markdown",
   "metadata": {},
   "source": [
    "## Feature Enoding\n",
    "\n",
    "In this process, the categorical data are encoded into numerical data. The LabelEncoder is used to encode the class values to integers accordingly as follows."
   ]
  },
  {
   "cell_type": "code",
   "execution_count": 24,
   "metadata": {},
   "outputs": [
    {
     "data": {
      "text/plain": [
       "0       0\n",
       "1       1\n",
       "2       1\n",
       "3       0\n",
       "4       1\n",
       "       ..\n",
       "7837    0\n",
       "7838    1\n",
       "7839    1\n",
       "7840    1\n",
       "7841    0\n",
       "Name: y, Length: 7746, dtype: int64"
      ]
     },
     "execution_count": 24,
     "metadata": {},
     "output_type": "execute_result"
    }
   ],
   "source": [
    "from sklearn.preprocessing import LabelEncoder\n",
    "\n",
    "# encode strings to integer\n",
    "df['y'] = LabelEncoder().fit_transform(df['y'])\n",
    "df['y']"
   ]
  },
  {
   "cell_type": "markdown",
   "metadata": {},
   "source": [
    "There was one feature that can be considered as having Categorical Ordinal data type; education. This is because when considering the values present in this field, an order can be seen as secondary, tertiary etc. This feature was converted to numerical representation using mapping as follows."
   ]
  },
  {
   "cell_type": "code",
   "execution_count": 25,
   "metadata": {},
   "outputs": [
    {
     "data": {
      "text/plain": [
       "1    4149\n",
       "2    2591\n",
       "0    1006\n",
       "Name: education, dtype: int64"
      ]
     },
     "execution_count": 25,
     "metadata": {},
     "output_type": "execute_result"
    }
   ],
   "source": [
    "from sklearn.preprocessing import OrdinalEncoder\n",
    "\n",
    "# checking the values in education field\n",
    "df['education'].value_counts()\n",
    "\n"
   ]
  },
  {
   "cell_type": "code",
   "execution_count": 26,
   "metadata": {},
   "outputs": [
    {
     "data": {
      "text/html": [
       "<div>\n",
       "<style scoped>\n",
       "    .dataframe tbody tr th:only-of-type {\n",
       "        vertical-align: middle;\n",
       "    }\n",
       "\n",
       "    .dataframe tbody tr th {\n",
       "        vertical-align: top;\n",
       "    }\n",
       "\n",
       "    .dataframe thead th {\n",
       "        text-align: right;\n",
       "    }\n",
       "</style>\n",
       "<table border=\"1\" class=\"dataframe\">\n",
       "  <thead>\n",
       "    <tr style=\"text-align: right;\">\n",
       "      <th></th>\n",
       "      <th>age</th>\n",
       "      <th>marital</th>\n",
       "      <th>education</th>\n",
       "      <th>default</th>\n",
       "      <th>balance</th>\n",
       "      <th>housing</th>\n",
       "      <th>loan</th>\n",
       "      <th>contact</th>\n",
       "      <th>campaign</th>\n",
       "      <th>pdays</th>\n",
       "      <th>previous</th>\n",
       "      <th>poutcome</th>\n",
       "      <th>y</th>\n",
       "    </tr>\n",
       "  </thead>\n",
       "  <tbody>\n",
       "    <tr>\n",
       "      <th>0</th>\n",
       "      <td>33</td>\n",
       "      <td>1</td>\n",
       "      <td>2</td>\n",
       "      <td>no</td>\n",
       "      <td>882</td>\n",
       "      <td>no</td>\n",
       "      <td>no</td>\n",
       "      <td>1</td>\n",
       "      <td>1</td>\n",
       "      <td>151</td>\n",
       "      <td>3</td>\n",
       "      <td>0</td>\n",
       "      <td>0</td>\n",
       "    </tr>\n",
       "    <tr>\n",
       "      <th>1</th>\n",
       "      <td>42</td>\n",
       "      <td>0</td>\n",
       "      <td>1</td>\n",
       "      <td>no</td>\n",
       "      <td>-247</td>\n",
       "      <td>yes</td>\n",
       "      <td>yes</td>\n",
       "      <td>1</td>\n",
       "      <td>1</td>\n",
       "      <td>166</td>\n",
       "      <td>1</td>\n",
       "      <td>2</td>\n",
       "      <td>1</td>\n",
       "    </tr>\n",
       "    <tr>\n",
       "      <th>2</th>\n",
       "      <td>33</td>\n",
       "      <td>1</td>\n",
       "      <td>1</td>\n",
       "      <td>no</td>\n",
       "      <td>3444</td>\n",
       "      <td>yes</td>\n",
       "      <td>no</td>\n",
       "      <td>1</td>\n",
       "      <td>1</td>\n",
       "      <td>91</td>\n",
       "      <td>4</td>\n",
       "      <td>0</td>\n",
       "      <td>1</td>\n",
       "    </tr>\n",
       "    <tr>\n",
       "      <th>3</th>\n",
       "      <td>36</td>\n",
       "      <td>1</td>\n",
       "      <td>2</td>\n",
       "      <td>no</td>\n",
       "      <td>2415</td>\n",
       "      <td>yes</td>\n",
       "      <td>no</td>\n",
       "      <td>1</td>\n",
       "      <td>1</td>\n",
       "      <td>86</td>\n",
       "      <td>4</td>\n",
       "      <td>2</td>\n",
       "      <td>0</td>\n",
       "    </tr>\n",
       "    <tr>\n",
       "      <th>4</th>\n",
       "      <td>36</td>\n",
       "      <td>1</td>\n",
       "      <td>2</td>\n",
       "      <td>no</td>\n",
       "      <td>0</td>\n",
       "      <td>yes</td>\n",
       "      <td>no</td>\n",
       "      <td>1</td>\n",
       "      <td>1</td>\n",
       "      <td>143</td>\n",
       "      <td>3</td>\n",
       "      <td>0</td>\n",
       "      <td>1</td>\n",
       "    </tr>\n",
       "  </tbody>\n",
       "</table>\n",
       "</div>"
      ],
      "text/plain": [
       "   age  marital  education default  balance housing loan  contact  campaign  \\\n",
       "0   33        1          2      no      882      no   no        1         1   \n",
       "1   42        0          1      no     -247     yes  yes        1         1   \n",
       "2   33        1          1      no     3444     yes   no        1         1   \n",
       "3   36        1          2      no     2415     yes   no        1         1   \n",
       "4   36        1          2      no        0     yes   no        1         1   \n",
       "\n",
       "   pdays  previous  poutcome  y  \n",
       "0    151         3         0  0  \n",
       "1    166         1         2  1  \n",
       "2     91         4         0  1  \n",
       "3     86         4         2  0  \n",
       "4    143         3         0  1  "
      ]
     },
     "execution_count": 26,
     "metadata": {},
     "output_type": "execute_result"
    }
   ],
   "source": [
    "df.head()"
   ]
  },
  {
   "cell_type": "code",
   "execution_count": 27,
   "metadata": {},
   "outputs": [],
   "source": [
    "# OneHoteEncoding using pandas ,get_dummies function \n",
    "# listing attributes that has categorical data\n",
    "categorial_features = ['default', 'housing', 'loan']\n",
    "for item in categorial_features:\n",
    "    # assigning the encoded data into a new DataFrame object\n",
    "    df1 = pd.get_dummies(df[item], prefix=item)\n",
    "    df = df.drop(item, axis=1)\n",
    "    for categorial_feature in df1.columns:\n",
    "        df[categorial_feature] = df1[categorial_feature]"
   ]
  },
  {
   "cell_type": "code",
   "execution_count": 28,
   "metadata": {},
   "outputs": [],
   "source": [
    "binary_valued_features = ['default','housing', 'loan']\n",
    "bin_dict = {'yes':1, 'no':0}\n",
    "\n",
    "#Replace binary values in data using the provided dictionary\n",
    "for item in binary_valued_features:\n",
    "    df.replace({item:bin_dict},inplace=True)"
   ]
  },
  {
   "cell_type": "code",
   "execution_count": 29,
   "metadata": {},
   "outputs": [],
   "source": [
    "# rearrange the columns in the dataset to contain the y value\n",
    "\n",
    "cols = list(df.columns.values)\n",
    "cols.pop(cols.index('y')) # pop y out of the list\n",
    "df = df[cols+['y']] # new dataframe with columns in new order"
   ]
  },
  {
   "cell_type": "code",
   "execution_count": 30,
   "metadata": {},
   "outputs": [],
   "source": [
    "## Splitting the Data\n",
    "y = df['y']\n",
    "X = df.values[:, :-1] # get all columns except the last column\n",
    "\n",
    "# spliting training and testing data\n",
    "from sklearn.model_selection import train_test_split\n",
    "\n",
    "X_train, X_test, y_train, y_test = train_test_split(X,y,test_size=0.2,random_state=50)"
   ]
  },
  {
   "cell_type": "markdown",
   "metadata": {},
   "source": [
    "The above code fragment was written because while encoding the categorical data using OneHotEncoding, the new columns were appended to the end of the dataset and the y (target) column was not at the end anymore."
   ]
  },
  {
   "cell_type": "code",
   "execution_count": 31,
   "metadata": {},
   "outputs": [
    {
     "data": {
      "text/html": [
       "<div>\n",
       "<style scoped>\n",
       "    .dataframe tbody tr th:only-of-type {\n",
       "        vertical-align: middle;\n",
       "    }\n",
       "\n",
       "    .dataframe tbody tr th {\n",
       "        vertical-align: top;\n",
       "    }\n",
       "\n",
       "    .dataframe thead th {\n",
       "        text-align: right;\n",
       "    }\n",
       "</style>\n",
       "<table border=\"1\" class=\"dataframe\">\n",
       "  <thead>\n",
       "    <tr style=\"text-align: right;\">\n",
       "      <th></th>\n",
       "      <th>age</th>\n",
       "      <th>marital</th>\n",
       "      <th>education</th>\n",
       "      <th>balance</th>\n",
       "      <th>contact</th>\n",
       "      <th>campaign</th>\n",
       "      <th>pdays</th>\n",
       "      <th>previous</th>\n",
       "      <th>poutcome</th>\n",
       "      <th>default_no</th>\n",
       "      <th>default_yes</th>\n",
       "      <th>housing_no</th>\n",
       "      <th>housing_yes</th>\n",
       "      <th>loan_no</th>\n",
       "      <th>loan_yes</th>\n",
       "      <th>y</th>\n",
       "    </tr>\n",
       "  </thead>\n",
       "  <tbody>\n",
       "    <tr>\n",
       "      <th>count</th>\n",
       "      <td>7746.000000</td>\n",
       "      <td>7746.000000</td>\n",
       "      <td>7746.000000</td>\n",
       "      <td>7746.000000</td>\n",
       "      <td>7746.000000</td>\n",
       "      <td>7746.000000</td>\n",
       "      <td>7746.000000</td>\n",
       "      <td>7746.000000</td>\n",
       "      <td>7746.000000</td>\n",
       "      <td>7746.000000</td>\n",
       "      <td>7746.000000</td>\n",
       "      <td>7746.000000</td>\n",
       "      <td>7746.000000</td>\n",
       "      <td>7746.000000</td>\n",
       "      <td>7746.000000</td>\n",
       "      <td>7746.000000</td>\n",
       "    </tr>\n",
       "    <tr>\n",
       "      <th>mean</th>\n",
       "      <td>40.755487</td>\n",
       "      <td>0.799639</td>\n",
       "      <td>1.204622</td>\n",
       "      <td>1522.193003</td>\n",
       "      <td>0.073715</td>\n",
       "      <td>2.064291</td>\n",
       "      <td>221.142138</td>\n",
       "      <td>3.130777</td>\n",
       "      <td>0.628066</td>\n",
       "      <td>0.992770</td>\n",
       "      <td>0.007230</td>\n",
       "      <td>0.369481</td>\n",
       "      <td>0.630519</td>\n",
       "      <td>0.860444</td>\n",
       "      <td>0.139556</td>\n",
       "      <td>0.223728</td>\n",
       "    </tr>\n",
       "    <tr>\n",
       "      <th>std</th>\n",
       "      <td>11.259099</td>\n",
       "      <td>0.621649</td>\n",
       "      <td>0.650041</td>\n",
       "      <td>2731.413601</td>\n",
       "      <td>0.261324</td>\n",
       "      <td>1.561892</td>\n",
       "      <td>107.195996</td>\n",
       "      <td>3.290900</td>\n",
       "      <td>0.825001</td>\n",
       "      <td>0.084724</td>\n",
       "      <td>0.084724</td>\n",
       "      <td>0.482695</td>\n",
       "      <td>0.482695</td>\n",
       "      <td>0.346548</td>\n",
       "      <td>0.346548</td>\n",
       "      <td>0.416769</td>\n",
       "    </tr>\n",
       "    <tr>\n",
       "      <th>min</th>\n",
       "      <td>18.000000</td>\n",
       "      <td>0.000000</td>\n",
       "      <td>0.000000</td>\n",
       "      <td>-1884.000000</td>\n",
       "      <td>0.000000</td>\n",
       "      <td>1.000000</td>\n",
       "      <td>1.000000</td>\n",
       "      <td>1.000000</td>\n",
       "      <td>0.000000</td>\n",
       "      <td>0.000000</td>\n",
       "      <td>0.000000</td>\n",
       "      <td>0.000000</td>\n",
       "      <td>0.000000</td>\n",
       "      <td>0.000000</td>\n",
       "      <td>0.000000</td>\n",
       "      <td>0.000000</td>\n",
       "    </tr>\n",
       "    <tr>\n",
       "      <th>25%</th>\n",
       "      <td>32.000000</td>\n",
       "      <td>0.000000</td>\n",
       "      <td>1.000000</td>\n",
       "      <td>159.000000</td>\n",
       "      <td>0.000000</td>\n",
       "      <td>1.000000</td>\n",
       "      <td>133.000000</td>\n",
       "      <td>1.000000</td>\n",
       "      <td>0.000000</td>\n",
       "      <td>1.000000</td>\n",
       "      <td>0.000000</td>\n",
       "      <td>0.000000</td>\n",
       "      <td>0.000000</td>\n",
       "      <td>1.000000</td>\n",
       "      <td>0.000000</td>\n",
       "      <td>0.000000</td>\n",
       "    </tr>\n",
       "    <tr>\n",
       "      <th>50%</th>\n",
       "      <td>38.000000</td>\n",
       "      <td>1.000000</td>\n",
       "      <td>1.000000</td>\n",
       "      <td>589.000000</td>\n",
       "      <td>0.000000</td>\n",
       "      <td>2.000000</td>\n",
       "      <td>194.000000</td>\n",
       "      <td>2.000000</td>\n",
       "      <td>0.000000</td>\n",
       "      <td>1.000000</td>\n",
       "      <td>0.000000</td>\n",
       "      <td>0.000000</td>\n",
       "      <td>1.000000</td>\n",
       "      <td>1.000000</td>\n",
       "      <td>0.000000</td>\n",
       "      <td>0.000000</td>\n",
       "    </tr>\n",
       "    <tr>\n",
       "      <th>75%</th>\n",
       "      <td>47.000000</td>\n",
       "      <td>1.000000</td>\n",
       "      <td>2.000000</td>\n",
       "      <td>1730.000000</td>\n",
       "      <td>0.000000</td>\n",
       "      <td>2.000000</td>\n",
       "      <td>326.000000</td>\n",
       "      <td>4.000000</td>\n",
       "      <td>1.000000</td>\n",
       "      <td>1.000000</td>\n",
       "      <td>0.000000</td>\n",
       "      <td>1.000000</td>\n",
       "      <td>1.000000</td>\n",
       "      <td>1.000000</td>\n",
       "      <td>0.000000</td>\n",
       "      <td>0.000000</td>\n",
       "    </tr>\n",
       "    <tr>\n",
       "      <th>max</th>\n",
       "      <td>89.000000</td>\n",
       "      <td>2.000000</td>\n",
       "      <td>2.000000</td>\n",
       "      <td>34230.000000</td>\n",
       "      <td>1.000000</td>\n",
       "      <td>15.000000</td>\n",
       "      <td>595.000000</td>\n",
       "      <td>40.000000</td>\n",
       "      <td>2.000000</td>\n",
       "      <td>1.000000</td>\n",
       "      <td>1.000000</td>\n",
       "      <td>1.000000</td>\n",
       "      <td>1.000000</td>\n",
       "      <td>1.000000</td>\n",
       "      <td>1.000000</td>\n",
       "      <td>1.000000</td>\n",
       "    </tr>\n",
       "  </tbody>\n",
       "</table>\n",
       "</div>"
      ],
      "text/plain": [
       "               age      marital    education       balance      contact  \\\n",
       "count  7746.000000  7746.000000  7746.000000   7746.000000  7746.000000   \n",
       "mean     40.755487     0.799639     1.204622   1522.193003     0.073715   \n",
       "std      11.259099     0.621649     0.650041   2731.413601     0.261324   \n",
       "min      18.000000     0.000000     0.000000  -1884.000000     0.000000   \n",
       "25%      32.000000     0.000000     1.000000    159.000000     0.000000   \n",
       "50%      38.000000     1.000000     1.000000    589.000000     0.000000   \n",
       "75%      47.000000     1.000000     2.000000   1730.000000     0.000000   \n",
       "max      89.000000     2.000000     2.000000  34230.000000     1.000000   \n",
       "\n",
       "          campaign        pdays     previous     poutcome   default_no  \\\n",
       "count  7746.000000  7746.000000  7746.000000  7746.000000  7746.000000   \n",
       "mean      2.064291   221.142138     3.130777     0.628066     0.992770   \n",
       "std       1.561892   107.195996     3.290900     0.825001     0.084724   \n",
       "min       1.000000     1.000000     1.000000     0.000000     0.000000   \n",
       "25%       1.000000   133.000000     1.000000     0.000000     1.000000   \n",
       "50%       2.000000   194.000000     2.000000     0.000000     1.000000   \n",
       "75%       2.000000   326.000000     4.000000     1.000000     1.000000   \n",
       "max      15.000000   595.000000    40.000000     2.000000     1.000000   \n",
       "\n",
       "       default_yes   housing_no  housing_yes      loan_no     loan_yes  \\\n",
       "count  7746.000000  7746.000000  7746.000000  7746.000000  7746.000000   \n",
       "mean      0.007230     0.369481     0.630519     0.860444     0.139556   \n",
       "std       0.084724     0.482695     0.482695     0.346548     0.346548   \n",
       "min       0.000000     0.000000     0.000000     0.000000     0.000000   \n",
       "25%       0.000000     0.000000     0.000000     1.000000     0.000000   \n",
       "50%       0.000000     0.000000     1.000000     1.000000     0.000000   \n",
       "75%       0.000000     1.000000     1.000000     1.000000     0.000000   \n",
       "max       1.000000     1.000000     1.000000     1.000000     1.000000   \n",
       "\n",
       "                 y  \n",
       "count  7746.000000  \n",
       "mean      0.223728  \n",
       "std       0.416769  \n",
       "min       0.000000  \n",
       "25%       0.000000  \n",
       "50%       0.000000  \n",
       "75%       0.000000  \n",
       "max       1.000000  "
      ]
     },
     "execution_count": 31,
     "metadata": {},
     "output_type": "execute_result"
    }
   ],
   "source": [
    "# checking the final info about the dataset \n",
    "df.describe()"
   ]
  },
  {
   "cell_type": "markdown",
   "metadata": {},
   "source": [
    "Here when using train_test_split, we use a random_state initializing value to make sure that the data splitting is done in the same way even in a different run of the code.\n",
    "\n",
    "Feature Scaling\n",
    "\n",
    "After encoding categorical data, the dataset consists of features with different data ranges. These values are standardized and feature scaling is done as follows. Numerical features were scaled by removing the mean and by scaling to unit variance (StandardScaler) as follows"
   ]
  },
  {
   "cell_type": "code",
   "execution_count": 32,
   "metadata": {},
   "outputs": [],
   "source": [
    "from sklearn.preprocessing import StandardScaler\n",
    "\n",
    "# Feature scaling procedures\n",
    "scaler = StandardScaler()  \n",
    "scaler.fit(X)\n",
    "X_train = scaler.transform(X_train)  \n",
    "X_test = scaler.transform(X_test)"
   ]
  },
  {
   "cell_type": "code",
   "execution_count": 33,
   "metadata": {},
   "outputs": [],
   "source": [
    "X_train = pd.DataFrame(X_train)\n",
    "X_test = pd.DataFrame(X_test)"
   ]
  },
  {
   "cell_type": "markdown",
   "metadata": {},
   "source": [
    "Feature Engineering Feature Selection is one of the core concepts in machine learning which hugely impacts the performance of your model. The data features that you use to train your machine learning models have a huge influence on the performance you can achieve. Irrelevant or partially relevant features can negatively impact model performance.\n",
    "\n",
    "Drawing the Correlation Matrix\n",
    "\n",
    "Therefore I will be performing the Correlation Coefficient checking mechanism in order to check the relationship between the different features with the output.\n",
    "\n",
    "Each of those correlation types can exist in a spectrum represented by values from 0 to 1 where slightly or highly positive correlation features can be something like 0.5 or 0.7. If there is a strong and perfect positive correlation, then the result is represented by a correlation score value of 0.9 or 1."
   ]
  },
  {
   "cell_type": "code",
   "execution_count": 49,
   "metadata": {},
   "outputs": [
    {
     "data": {
      "text/html": [
       "<div>\n",
       "<style scoped>\n",
       "    .dataframe tbody tr th:only-of-type {\n",
       "        vertical-align: middle;\n",
       "    }\n",
       "\n",
       "    .dataframe tbody tr th {\n",
       "        vertical-align: top;\n",
       "    }\n",
       "\n",
       "    .dataframe thead th {\n",
       "        text-align: right;\n",
       "    }\n",
       "</style>\n",
       "<table border=\"1\" class=\"dataframe\">\n",
       "  <thead>\n",
       "    <tr style=\"text-align: right;\">\n",
       "      <th></th>\n",
       "      <th>0</th>\n",
       "      <th>1</th>\n",
       "      <th>2</th>\n",
       "      <th>3</th>\n",
       "      <th>4</th>\n",
       "      <th>5</th>\n",
       "      <th>6</th>\n",
       "      <th>7</th>\n",
       "      <th>8</th>\n",
       "      <th>9</th>\n",
       "      <th>10</th>\n",
       "      <th>11</th>\n",
       "      <th>12</th>\n",
       "      <th>13</th>\n",
       "      <th>14</th>\n",
       "    </tr>\n",
       "  </thead>\n",
       "  <tbody>\n",
       "    <tr>\n",
       "      <th>0</th>\n",
       "      <td>1.000000</td>\n",
       "      <td>0.419629</td>\n",
       "      <td>-0.175419</td>\n",
       "      <td>0.093699</td>\n",
       "      <td>0.179822</td>\n",
       "      <td>0.006550</td>\n",
       "      <td>-0.111516</td>\n",
       "      <td>0.003282</td>\n",
       "      <td>-0.013444</td>\n",
       "      <td>0.024300</td>\n",
       "      <td>-0.024300</td>\n",
       "      <td>0.184857</td>\n",
       "      <td>-0.184857</td>\n",
       "      <td>0.007631</td>\n",
       "      <td>-0.007631</td>\n",
       "    </tr>\n",
       "    <tr>\n",
       "      <th>1</th>\n",
       "      <td>0.419629</td>\n",
       "      <td>1.000000</td>\n",
       "      <td>-0.132871</td>\n",
       "      <td>0.017102</td>\n",
       "      <td>0.014848</td>\n",
       "      <td>-0.000069</td>\n",
       "      <td>0.003739</td>\n",
       "      <td>-0.013037</td>\n",
       "      <td>-0.035532</td>\n",
       "      <td>-0.003965</td>\n",
       "      <td>0.003965</td>\n",
       "      <td>-0.059211</td>\n",
       "      <td>0.059211</td>\n",
       "      <td>-0.049369</td>\n",
       "      <td>0.049369</td>\n",
       "    </tr>\n",
       "    <tr>\n",
       "      <th>2</th>\n",
       "      <td>-0.175419</td>\n",
       "      <td>-0.132871</td>\n",
       "      <td>1.000000</td>\n",
       "      <td>0.085168</td>\n",
       "      <td>-0.100330</td>\n",
       "      <td>-0.019868</td>\n",
       "      <td>-0.172222</td>\n",
       "      <td>0.004174</td>\n",
       "      <td>0.017409</td>\n",
       "      <td>0.012013</td>\n",
       "      <td>-0.012013</td>\n",
       "      <td>0.115152</td>\n",
       "      <td>-0.115152</td>\n",
       "      <td>0.029335</td>\n",
       "      <td>-0.029335</td>\n",
       "    </tr>\n",
       "    <tr>\n",
       "      <th>3</th>\n",
       "      <td>0.093699</td>\n",
       "      <td>0.017102</td>\n",
       "      <td>0.085168</td>\n",
       "      <td>1.000000</td>\n",
       "      <td>0.034170</td>\n",
       "      <td>-0.004720</td>\n",
       "      <td>-0.125004</td>\n",
       "      <td>0.015954</td>\n",
       "      <td>0.009818</td>\n",
       "      <td>0.054577</td>\n",
       "      <td>-0.054577</td>\n",
       "      <td>0.113063</td>\n",
       "      <td>-0.113063</td>\n",
       "      <td>0.088783</td>\n",
       "      <td>-0.088783</td>\n",
       "    </tr>\n",
       "    <tr>\n",
       "      <th>4</th>\n",
       "      <td>0.179822</td>\n",
       "      <td>0.014848</td>\n",
       "      <td>-0.100330</td>\n",
       "      <td>0.034170</td>\n",
       "      <td>1.000000</td>\n",
       "      <td>0.108766</td>\n",
       "      <td>-0.014420</td>\n",
       "      <td>0.067740</td>\n",
       "      <td>0.052070</td>\n",
       "      <td>0.018588</td>\n",
       "      <td>-0.018588</td>\n",
       "      <td>0.085734</td>\n",
       "      <td>-0.085734</td>\n",
       "      <td>0.027306</td>\n",
       "      <td>-0.027306</td>\n",
       "    </tr>\n",
       "    <tr>\n",
       "      <th>5</th>\n",
       "      <td>0.006550</td>\n",
       "      <td>-0.000069</td>\n",
       "      <td>-0.019868</td>\n",
       "      <td>-0.004720</td>\n",
       "      <td>0.108766</td>\n",
       "      <td>1.000000</td>\n",
       "      <td>0.067434</td>\n",
       "      <td>0.174935</td>\n",
       "      <td>0.104630</td>\n",
       "      <td>0.002684</td>\n",
       "      <td>-0.002684</td>\n",
       "      <td>-0.053096</td>\n",
       "      <td>0.053096</td>\n",
       "      <td>-0.014599</td>\n",
       "      <td>0.014599</td>\n",
       "    </tr>\n",
       "    <tr>\n",
       "      <th>6</th>\n",
       "      <td>-0.111516</td>\n",
       "      <td>0.003739</td>\n",
       "      <td>-0.172222</td>\n",
       "      <td>-0.125004</td>\n",
       "      <td>-0.014420</td>\n",
       "      <td>0.067434</td>\n",
       "      <td>1.000000</td>\n",
       "      <td>-0.046518</td>\n",
       "      <td>-0.097109</td>\n",
       "      <td>-0.042307</td>\n",
       "      <td>0.042307</td>\n",
       "      <td>-0.365249</td>\n",
       "      <td>0.365249</td>\n",
       "      <td>-0.020271</td>\n",
       "      <td>0.020271</td>\n",
       "    </tr>\n",
       "    <tr>\n",
       "      <th>7</th>\n",
       "      <td>0.003282</td>\n",
       "      <td>-0.013037</td>\n",
       "      <td>0.004174</td>\n",
       "      <td>0.015954</td>\n",
       "      <td>0.067740</td>\n",
       "      <td>0.174935</td>\n",
       "      <td>-0.046518</td>\n",
       "      <td>1.000000</td>\n",
       "      <td>0.104970</td>\n",
       "      <td>-0.024626</td>\n",
       "      <td>0.024626</td>\n",
       "      <td>-0.003167</td>\n",
       "      <td>0.003167</td>\n",
       "      <td>-0.025717</td>\n",
       "      <td>0.025717</td>\n",
       "    </tr>\n",
       "    <tr>\n",
       "      <th>8</th>\n",
       "      <td>-0.013444</td>\n",
       "      <td>-0.035532</td>\n",
       "      <td>0.017409</td>\n",
       "      <td>0.009818</td>\n",
       "      <td>0.052070</td>\n",
       "      <td>0.104630</td>\n",
       "      <td>-0.097109</td>\n",
       "      <td>0.104970</td>\n",
       "      <td>1.000000</td>\n",
       "      <td>0.013882</td>\n",
       "      <td>-0.013882</td>\n",
       "      <td>0.115134</td>\n",
       "      <td>-0.115134</td>\n",
       "      <td>0.045206</td>\n",
       "      <td>-0.045206</td>\n",
       "    </tr>\n",
       "    <tr>\n",
       "      <th>9</th>\n",
       "      <td>0.024300</td>\n",
       "      <td>-0.003965</td>\n",
       "      <td>0.012013</td>\n",
       "      <td>0.054577</td>\n",
       "      <td>0.018588</td>\n",
       "      <td>0.002684</td>\n",
       "      <td>-0.042307</td>\n",
       "      <td>-0.024626</td>\n",
       "      <td>0.013882</td>\n",
       "      <td>1.000000</td>\n",
       "      <td>-1.000000</td>\n",
       "      <td>0.028174</td>\n",
       "      <td>-0.028174</td>\n",
       "      <td>0.052761</td>\n",
       "      <td>-0.052761</td>\n",
       "    </tr>\n",
       "    <tr>\n",
       "      <th>10</th>\n",
       "      <td>-0.024300</td>\n",
       "      <td>0.003965</td>\n",
       "      <td>-0.012013</td>\n",
       "      <td>-0.054577</td>\n",
       "      <td>-0.018588</td>\n",
       "      <td>-0.002684</td>\n",
       "      <td>0.042307</td>\n",
       "      <td>0.024626</td>\n",
       "      <td>-0.013882</td>\n",
       "      <td>-1.000000</td>\n",
       "      <td>1.000000</td>\n",
       "      <td>-0.028174</td>\n",
       "      <td>0.028174</td>\n",
       "      <td>-0.052761</td>\n",
       "      <td>0.052761</td>\n",
       "    </tr>\n",
       "    <tr>\n",
       "      <th>11</th>\n",
       "      <td>0.184857</td>\n",
       "      <td>-0.059211</td>\n",
       "      <td>0.115152</td>\n",
       "      <td>0.113063</td>\n",
       "      <td>0.085734</td>\n",
       "      <td>-0.053096</td>\n",
       "      <td>-0.365249</td>\n",
       "      <td>-0.003167</td>\n",
       "      <td>0.115134</td>\n",
       "      <td>0.028174</td>\n",
       "      <td>-0.028174</td>\n",
       "      <td>1.000000</td>\n",
       "      <td>-1.000000</td>\n",
       "      <td>0.103101</td>\n",
       "      <td>-0.103101</td>\n",
       "    </tr>\n",
       "    <tr>\n",
       "      <th>12</th>\n",
       "      <td>-0.184857</td>\n",
       "      <td>0.059211</td>\n",
       "      <td>-0.115152</td>\n",
       "      <td>-0.113063</td>\n",
       "      <td>-0.085734</td>\n",
       "      <td>0.053096</td>\n",
       "      <td>0.365249</td>\n",
       "      <td>0.003167</td>\n",
       "      <td>-0.115134</td>\n",
       "      <td>-0.028174</td>\n",
       "      <td>0.028174</td>\n",
       "      <td>-1.000000</td>\n",
       "      <td>1.000000</td>\n",
       "      <td>-0.103101</td>\n",
       "      <td>0.103101</td>\n",
       "    </tr>\n",
       "    <tr>\n",
       "      <th>13</th>\n",
       "      <td>0.007631</td>\n",
       "      <td>-0.049369</td>\n",
       "      <td>0.029335</td>\n",
       "      <td>0.088783</td>\n",
       "      <td>0.027306</td>\n",
       "      <td>-0.014599</td>\n",
       "      <td>-0.020271</td>\n",
       "      <td>-0.025717</td>\n",
       "      <td>0.045206</td>\n",
       "      <td>0.052761</td>\n",
       "      <td>-0.052761</td>\n",
       "      <td>0.103101</td>\n",
       "      <td>-0.103101</td>\n",
       "      <td>1.000000</td>\n",
       "      <td>-1.000000</td>\n",
       "    </tr>\n",
       "    <tr>\n",
       "      <th>14</th>\n",
       "      <td>-0.007631</td>\n",
       "      <td>0.049369</td>\n",
       "      <td>-0.029335</td>\n",
       "      <td>-0.088783</td>\n",
       "      <td>-0.027306</td>\n",
       "      <td>0.014599</td>\n",
       "      <td>0.020271</td>\n",
       "      <td>0.025717</td>\n",
       "      <td>-0.045206</td>\n",
       "      <td>-0.052761</td>\n",
       "      <td>0.052761</td>\n",
       "      <td>-0.103101</td>\n",
       "      <td>0.103101</td>\n",
       "      <td>-1.000000</td>\n",
       "      <td>1.000000</td>\n",
       "    </tr>\n",
       "  </tbody>\n",
       "</table>\n",
       "</div>"
      ],
      "text/plain": [
       "          0         1         2         3         4         5         6   \\\n",
       "0   1.000000  0.419629 -0.175419  0.093699  0.179822  0.006550 -0.111516   \n",
       "1   0.419629  1.000000 -0.132871  0.017102  0.014848 -0.000069  0.003739   \n",
       "2  -0.175419 -0.132871  1.000000  0.085168 -0.100330 -0.019868 -0.172222   \n",
       "3   0.093699  0.017102  0.085168  1.000000  0.034170 -0.004720 -0.125004   \n",
       "4   0.179822  0.014848 -0.100330  0.034170  1.000000  0.108766 -0.014420   \n",
       "5   0.006550 -0.000069 -0.019868 -0.004720  0.108766  1.000000  0.067434   \n",
       "6  -0.111516  0.003739 -0.172222 -0.125004 -0.014420  0.067434  1.000000   \n",
       "7   0.003282 -0.013037  0.004174  0.015954  0.067740  0.174935 -0.046518   \n",
       "8  -0.013444 -0.035532  0.017409  0.009818  0.052070  0.104630 -0.097109   \n",
       "9   0.024300 -0.003965  0.012013  0.054577  0.018588  0.002684 -0.042307   \n",
       "10 -0.024300  0.003965 -0.012013 -0.054577 -0.018588 -0.002684  0.042307   \n",
       "11  0.184857 -0.059211  0.115152  0.113063  0.085734 -0.053096 -0.365249   \n",
       "12 -0.184857  0.059211 -0.115152 -0.113063 -0.085734  0.053096  0.365249   \n",
       "13  0.007631 -0.049369  0.029335  0.088783  0.027306 -0.014599 -0.020271   \n",
       "14 -0.007631  0.049369 -0.029335 -0.088783 -0.027306  0.014599  0.020271   \n",
       "\n",
       "          7         8         9         10        11        12        13  \\\n",
       "0   0.003282 -0.013444  0.024300 -0.024300  0.184857 -0.184857  0.007631   \n",
       "1  -0.013037 -0.035532 -0.003965  0.003965 -0.059211  0.059211 -0.049369   \n",
       "2   0.004174  0.017409  0.012013 -0.012013  0.115152 -0.115152  0.029335   \n",
       "3   0.015954  0.009818  0.054577 -0.054577  0.113063 -0.113063  0.088783   \n",
       "4   0.067740  0.052070  0.018588 -0.018588  0.085734 -0.085734  0.027306   \n",
       "5   0.174935  0.104630  0.002684 -0.002684 -0.053096  0.053096 -0.014599   \n",
       "6  -0.046518 -0.097109 -0.042307  0.042307 -0.365249  0.365249 -0.020271   \n",
       "7   1.000000  0.104970 -0.024626  0.024626 -0.003167  0.003167 -0.025717   \n",
       "8   0.104970  1.000000  0.013882 -0.013882  0.115134 -0.115134  0.045206   \n",
       "9  -0.024626  0.013882  1.000000 -1.000000  0.028174 -0.028174  0.052761   \n",
       "10  0.024626 -0.013882 -1.000000  1.000000 -0.028174  0.028174 -0.052761   \n",
       "11 -0.003167  0.115134  0.028174 -0.028174  1.000000 -1.000000  0.103101   \n",
       "12  0.003167 -0.115134 -0.028174  0.028174 -1.000000  1.000000 -0.103101   \n",
       "13 -0.025717  0.045206  0.052761 -0.052761  0.103101 -0.103101  1.000000   \n",
       "14  0.025717 -0.045206 -0.052761  0.052761 -0.103101  0.103101 -1.000000   \n",
       "\n",
       "          14  \n",
       "0  -0.007631  \n",
       "1   0.049369  \n",
       "2  -0.029335  \n",
       "3  -0.088783  \n",
       "4  -0.027306  \n",
       "5   0.014599  \n",
       "6   0.020271  \n",
       "7   0.025717  \n",
       "8  -0.045206  \n",
       "9  -0.052761  \n",
       "10  0.052761  \n",
       "11 -0.103101  \n",
       "12  0.103101  \n",
       "13 -1.000000  \n",
       "14  1.000000  "
      ]
     },
     "execution_count": 49,
     "metadata": {},
     "output_type": "execute_result"
    },
    {
     "data": {
      "image/png": "[encoded data removed]",
      "text/plain": [
       "<Figure size 576x576 with 2 Axes>"
      ]
     },
     "metadata": {
      "needs_background": "light"
     },
     "output_type": "display_data"
    }
   ],
   "source": [
    "# correlation matrix\n",
    "correlation_matrix = pd.DataFrame(X_train).corr()\n",
    "fig, ax = plt.subplots(figsize=(8,8))         \n",
    "sns.heatmap(correlation_matrix, ax=ax)\n",
    "correlation_matrix"
   ]
  },
  {
   "cell_type": "markdown",
   "metadata": {},
   "source": [
    "After generating the correlation matrix, we can see that to the right side of the matrix, there are features that has a very high correlation. We usually remove such features that have high correlations because, they are some what linearly dependent with other features. These features contribute very less in predicting the output but increses the computational cost.\n",
    "\n",
    "It is clear that correlated features means that they bring the same information, so it is logical to remove one of them.\n",
    "\n",
    "In order to find the exact columns that has the high correlation values, i perform the below code. I am checking the upper triangle of the correlation matrux because the uppoer and lower traingles are mirrors of each other that are divided by the diagonal in the correlation matrix. Here i am checking the columns that has correlations values more than 0.95 with the hope of removing them."
   ]
  },
  {
   "cell_type": "code",
   "execution_count": 35,
   "metadata": {},
   "outputs": [
    {
     "name": "stdout",
     "output_type": "stream",
     "text": [
      "    0         1         2         3         4         5         6         7   \\\n",
      "0  NaN  0.419629 -0.175419  0.093699  0.179822  0.006550 -0.111516  0.003282   \n",
      "1  NaN       NaN -0.132871  0.017102  0.014848 -0.000069  0.003739 -0.013037   \n",
      "2  NaN       NaN       NaN  0.085168 -0.100330 -0.019868 -0.172222  0.004174   \n",
      "3  NaN       NaN       NaN       NaN  0.034170 -0.004720 -0.125004  0.015954   \n",
      "4  NaN       NaN       NaN       NaN       NaN  0.108766 -0.014420  0.067740   \n",
      "5  NaN       NaN       NaN       NaN       NaN       NaN  0.067434  0.174935   \n",
      "6  NaN       NaN       NaN       NaN       NaN       NaN       NaN -0.046518   \n",
      "7  NaN       NaN       NaN       NaN       NaN       NaN       NaN       NaN   \n",
      "8  NaN       NaN       NaN       NaN       NaN       NaN       NaN       NaN   \n",
      "9  NaN       NaN       NaN       NaN       NaN       NaN       NaN       NaN   \n",
      "10 NaN       NaN       NaN       NaN       NaN       NaN       NaN       NaN   \n",
      "11 NaN       NaN       NaN       NaN       NaN       NaN       NaN       NaN   \n",
      "12 NaN       NaN       NaN       NaN       NaN       NaN       NaN       NaN   \n",
      "13 NaN       NaN       NaN       NaN       NaN       NaN       NaN       NaN   \n",
      "14 NaN       NaN       NaN       NaN       NaN       NaN       NaN       NaN   \n",
      "\n",
      "          8         9         10        11        12        13        14  \n",
      "0  -0.013444  0.024300 -0.024300  0.184857 -0.184857  0.007631 -0.007631  \n",
      "1  -0.035532 -0.003965  0.003965 -0.059211  0.059211 -0.049369  0.049369  \n",
      "2   0.017409  0.012013 -0.012013  0.115152 -0.115152  0.029335 -0.029335  \n",
      "3   0.009818  0.054577 -0.054577  0.113063 -0.113063  0.088783 -0.088783  \n",
      "4   0.052070  0.018588 -0.018588  0.085734 -0.085734  0.027306 -0.027306  \n",
      "5   0.104630  0.002684 -0.002684 -0.053096  0.053096 -0.014599  0.014599  \n",
      "6  -0.097109 -0.042307  0.042307 -0.365249  0.365249 -0.020271  0.020271  \n",
      "7   0.104970 -0.024626  0.024626 -0.003167  0.003167 -0.025717  0.025717  \n",
      "8        NaN  0.013882 -0.013882  0.115134 -0.115134  0.045206 -0.045206  \n",
      "9        NaN       NaN -1.000000  0.028174 -0.028174  0.052761 -0.052761  \n",
      "10       NaN       NaN       NaN -0.028174  0.028174 -0.052761  0.052761  \n",
      "11       NaN       NaN       NaN       NaN -1.000000  0.103101 -0.103101  \n",
      "12       NaN       NaN       NaN       NaN       NaN -0.103101  0.103101  \n",
      "13       NaN       NaN       NaN       NaN       NaN       NaN -1.000000  \n",
      "14       NaN       NaN       NaN       NaN       NaN       NaN       NaN  \n",
      "\n",
      "To drop\n",
      "[]\n",
      "         0         1         2         3         4         5         6   \\\n",
      "0 -0.600041  0.322327 -0.314803 -0.540119 -0.282103 -0.041165 -0.486450   \n",
      "1  0.909946  0.322327 -1.853267 -0.427716 -0.282103 -0.041165  1.146179   \n",
      "2  0.110541 -1.286401  1.223661 -0.522911 -0.282103 -0.041165 -1.223466   \n",
      "3 -1.044155 -1.286401 -0.314803 -0.515954 -0.282103 -0.041165 -0.355840   \n",
      "4 -0.600041  0.322327 -0.314803 -0.204008 -0.282103 -0.041165  1.034227   \n",
      "\n",
      "         7         8         9         10        11        12        13  \\\n",
      "0 -0.343629 -0.761340  0.085336 -0.085336  1.306330 -1.306330  0.402729   \n",
      "1 -0.647517  1.663055  0.085336 -0.085336 -0.765503  0.765503  0.402729   \n",
      "2  0.264146 -0.761340  0.085336 -0.085336 -0.765503  0.765503  0.402729   \n",
      "3  0.264146  0.450857  0.085336 -0.085336  1.306330 -1.306330  0.402729   \n",
      "4 -0.343629  1.663055  0.085336 -0.085336 -0.765503  0.765503  0.402729   \n",
      "\n",
      "         14  \n",
      "0 -0.402729  \n",
      "1 -0.402729  \n",
      "2 -0.402729  \n",
      "3 -0.402729  \n",
      "4 -0.402729  \n"
     ]
    }
   ],
   "source": [
    "# getting the upper triangle of the correlation matrix\n",
    "upper_tri = correlation_matrix.where(np.triu(np.ones(correlation_matrix.shape),k=1).astype(np.bool))\n",
    "print(upper_tri)\n",
    "\n",
    "# checking which columns can be dropped\n",
    "to_drop = [column for column in upper_tri.columns if any(upper_tri[column] > 0.95)]\n",
    "print('\\nTo drop')\n",
    "print(to_drop)\n",
    "\n",
    "# removing the selected columns\n",
    "X_train = X_train.drop(X_train.columns[to_drop], axis=1)\n",
    "X_test = X_test.drop(X_test.columns[to_drop], axis=1)\n",
    "print(X_train.head())"
   ]
  },
  {
   "cell_type": "markdown",
   "metadata": {},
   "source": [
    "However, after performing the above code, we can see that there are no columns that has more than 0.95 correlation and that therefore, there are no columns to be removed.\n",
    "\n",
    "Applying PCA\n",
    "\n",
    "Principal Component Analysis, or PCA, is a dimensionality-reduction method that is often used to reduce the dimensionality of large data sets, by transforming a large set of variables into a smaller one that still contains most of the information in the large set."
   ]
  },
  {
   "cell_type": "code",
   "execution_count": 36,
   "metadata": {},
   "outputs": [
    {
     "data": {
      "text/html": [
       "<div>\n",
       "<style scoped>\n",
       "    .dataframe tbody tr th:only-of-type {\n",
       "        vertical-align: middle;\n",
       "    }\n",
       "\n",
       "    .dataframe tbody tr th {\n",
       "        vertical-align: top;\n",
       "    }\n",
       "\n",
       "    .dataframe thead th {\n",
       "        text-align: right;\n",
       "    }\n",
       "</style>\n",
       "<table border=\"1\" class=\"dataframe\">\n",
       "  <thead>\n",
       "    <tr style=\"text-align: right;\">\n",
       "      <th></th>\n",
       "      <th>0</th>\n",
       "      <th>1</th>\n",
       "      <th>2</th>\n",
       "      <th>3</th>\n",
       "      <th>4</th>\n",
       "      <th>5</th>\n",
       "      <th>6</th>\n",
       "      <th>7</th>\n",
       "      <th>8</th>\n",
       "      <th>9</th>\n",
       "      <th>10</th>\n",
       "      <th>11</th>\n",
       "      <th>12</th>\n",
       "      <th>13</th>\n",
       "      <th>14</th>\n",
       "    </tr>\n",
       "  </thead>\n",
       "  <tbody>\n",
       "    <tr>\n",
       "      <th>0</th>\n",
       "      <td>-0.600041</td>\n",
       "      <td>0.322327</td>\n",
       "      <td>-0.314803</td>\n",
       "      <td>-0.540119</td>\n",
       "      <td>-0.282103</td>\n",
       "      <td>-0.041165</td>\n",
       "      <td>-0.486450</td>\n",
       "      <td>-0.343629</td>\n",
       "      <td>-0.761340</td>\n",
       "      <td>0.085336</td>\n",
       "      <td>-0.085336</td>\n",
       "      <td>1.306330</td>\n",
       "      <td>-1.306330</td>\n",
       "      <td>0.402729</td>\n",
       "      <td>-0.402729</td>\n",
       "    </tr>\n",
       "    <tr>\n",
       "      <th>1</th>\n",
       "      <td>0.909946</td>\n",
       "      <td>0.322327</td>\n",
       "      <td>-1.853267</td>\n",
       "      <td>-0.427716</td>\n",
       "      <td>-0.282103</td>\n",
       "      <td>-0.041165</td>\n",
       "      <td>1.146179</td>\n",
       "      <td>-0.647517</td>\n",
       "      <td>1.663055</td>\n",
       "      <td>0.085336</td>\n",
       "      <td>-0.085336</td>\n",
       "      <td>-0.765503</td>\n",
       "      <td>0.765503</td>\n",
       "      <td>0.402729</td>\n",
       "      <td>-0.402729</td>\n",
       "    </tr>\n",
       "    <tr>\n",
       "      <th>2</th>\n",
       "      <td>0.110541</td>\n",
       "      <td>-1.286401</td>\n",
       "      <td>1.223661</td>\n",
       "      <td>-0.522911</td>\n",
       "      <td>-0.282103</td>\n",
       "      <td>-0.041165</td>\n",
       "      <td>-1.223466</td>\n",
       "      <td>0.264146</td>\n",
       "      <td>-0.761340</td>\n",
       "      <td>0.085336</td>\n",
       "      <td>-0.085336</td>\n",
       "      <td>-0.765503</td>\n",
       "      <td>0.765503</td>\n",
       "      <td>0.402729</td>\n",
       "      <td>-0.402729</td>\n",
       "    </tr>\n",
       "    <tr>\n",
       "      <th>3</th>\n",
       "      <td>-1.044155</td>\n",
       "      <td>-1.286401</td>\n",
       "      <td>-0.314803</td>\n",
       "      <td>-0.515954</td>\n",
       "      <td>-0.282103</td>\n",
       "      <td>-0.041165</td>\n",
       "      <td>-0.355840</td>\n",
       "      <td>0.264146</td>\n",
       "      <td>0.450857</td>\n",
       "      <td>0.085336</td>\n",
       "      <td>-0.085336</td>\n",
       "      <td>1.306330</td>\n",
       "      <td>-1.306330</td>\n",
       "      <td>0.402729</td>\n",
       "      <td>-0.402729</td>\n",
       "    </tr>\n",
       "    <tr>\n",
       "      <th>4</th>\n",
       "      <td>-0.600041</td>\n",
       "      <td>0.322327</td>\n",
       "      <td>-0.314803</td>\n",
       "      <td>-0.204008</td>\n",
       "      <td>-0.282103</td>\n",
       "      <td>-0.041165</td>\n",
       "      <td>1.034227</td>\n",
       "      <td>-0.343629</td>\n",
       "      <td>1.663055</td>\n",
       "      <td>0.085336</td>\n",
       "      <td>-0.085336</td>\n",
       "      <td>-0.765503</td>\n",
       "      <td>0.765503</td>\n",
       "      <td>0.402729</td>\n",
       "      <td>-0.402729</td>\n",
       "    </tr>\n",
       "    <tr>\n",
       "      <th>...</th>\n",
       "      <td>...</td>\n",
       "      <td>...</td>\n",
       "      <td>...</td>\n",
       "      <td>...</td>\n",
       "      <td>...</td>\n",
       "      <td>...</td>\n",
       "      <td>...</td>\n",
       "      <td>...</td>\n",
       "      <td>...</td>\n",
       "      <td>...</td>\n",
       "      <td>...</td>\n",
       "      <td>...</td>\n",
       "      <td>...</td>\n",
       "      <td>...</td>\n",
       "      <td>...</td>\n",
       "    </tr>\n",
       "    <tr>\n",
       "      <th>6191</th>\n",
       "      <td>-0.155927</td>\n",
       "      <td>-1.286401</td>\n",
       "      <td>-0.314803</td>\n",
       "      <td>-0.524009</td>\n",
       "      <td>-0.282103</td>\n",
       "      <td>-0.681455</td>\n",
       "      <td>-0.337181</td>\n",
       "      <td>-0.647517</td>\n",
       "      <td>0.450857</td>\n",
       "      <td>0.085336</td>\n",
       "      <td>-0.085336</td>\n",
       "      <td>1.306330</td>\n",
       "      <td>-1.306330</td>\n",
       "      <td>0.402729</td>\n",
       "      <td>-0.402729</td>\n",
       "    </tr>\n",
       "    <tr>\n",
       "      <th>6192</th>\n",
       "      <td>-0.600041</td>\n",
       "      <td>0.322327</td>\n",
       "      <td>-1.853267</td>\n",
       "      <td>1.902364</td>\n",
       "      <td>-0.282103</td>\n",
       "      <td>1.239416</td>\n",
       "      <td>-1.158160</td>\n",
       "      <td>-0.647517</td>\n",
       "      <td>1.663055</td>\n",
       "      <td>0.085336</td>\n",
       "      <td>-0.085336</td>\n",
       "      <td>1.306330</td>\n",
       "      <td>-1.306330</td>\n",
       "      <td>0.402729</td>\n",
       "      <td>-0.402729</td>\n",
       "    </tr>\n",
       "    <tr>\n",
       "      <th>6193</th>\n",
       "      <td>-0.244750</td>\n",
       "      <td>0.322327</td>\n",
       "      <td>-0.314803</td>\n",
       "      <td>-0.456640</td>\n",
       "      <td>-0.282103</td>\n",
       "      <td>-0.041165</td>\n",
       "      <td>1.043557</td>\n",
       "      <td>-0.647517</td>\n",
       "      <td>-0.761340</td>\n",
       "      <td>0.085336</td>\n",
       "      <td>-0.085336</td>\n",
       "      <td>-0.765503</td>\n",
       "      <td>0.765503</td>\n",
       "      <td>0.402729</td>\n",
       "      <td>-0.402729</td>\n",
       "    </tr>\n",
       "    <tr>\n",
       "      <th>6194</th>\n",
       "      <td>0.199364</td>\n",
       "      <td>-1.286401</td>\n",
       "      <td>-0.314803</td>\n",
       "      <td>-0.288951</td>\n",
       "      <td>-0.282103</td>\n",
       "      <td>-0.681455</td>\n",
       "      <td>-1.242124</td>\n",
       "      <td>0.264146</td>\n",
       "      <td>0.450857</td>\n",
       "      <td>0.085336</td>\n",
       "      <td>-0.085336</td>\n",
       "      <td>-0.765503</td>\n",
       "      <td>0.765503</td>\n",
       "      <td>0.402729</td>\n",
       "      <td>-0.402729</td>\n",
       "    </tr>\n",
       "    <tr>\n",
       "      <th>6195</th>\n",
       "      <td>-0.333573</td>\n",
       "      <td>0.322327</td>\n",
       "      <td>-0.314803</td>\n",
       "      <td>-0.336182</td>\n",
       "      <td>-0.282103</td>\n",
       "      <td>-0.681455</td>\n",
       "      <td>2.554905</td>\n",
       "      <td>-0.647517</td>\n",
       "      <td>-0.761340</td>\n",
       "      <td>0.085336</td>\n",
       "      <td>-0.085336</td>\n",
       "      <td>-0.765503</td>\n",
       "      <td>0.765503</td>\n",
       "      <td>0.402729</td>\n",
       "      <td>-0.402729</td>\n",
       "    </tr>\n",
       "  </tbody>\n",
       "</table>\n",
       "<p>6196 rows × 15 columns</p>\n",
       "</div>"
      ],
      "text/plain": [
       "            0         1         2         3         4         5         6   \\\n",
       "0    -0.600041  0.322327 -0.314803 -0.540119 -0.282103 -0.041165 -0.486450   \n",
       "1     0.909946  0.322327 -1.853267 -0.427716 -0.282103 -0.041165  1.146179   \n",
       "2     0.110541 -1.286401  1.223661 -0.522911 -0.282103 -0.041165 -1.223466   \n",
       "3    -1.044155 -1.286401 -0.314803 -0.515954 -0.282103 -0.041165 -0.355840   \n",
       "4    -0.600041  0.322327 -0.314803 -0.204008 -0.282103 -0.041165  1.034227   \n",
       "...        ...       ...       ...       ...       ...       ...       ...   \n",
       "6191 -0.155927 -1.286401 -0.314803 -0.524009 -0.282103 -0.681455 -0.337181   \n",
       "6192 -0.600041  0.322327 -1.853267  1.902364 -0.282103  1.239416 -1.158160   \n",
       "6193 -0.244750  0.322327 -0.314803 -0.456640 -0.282103 -0.041165  1.043557   \n",
       "6194  0.199364 -1.286401 -0.314803 -0.288951 -0.282103 -0.681455 -1.242124   \n",
       "6195 -0.333573  0.322327 -0.314803 -0.336182 -0.282103 -0.681455  2.554905   \n",
       "\n",
       "            7         8         9         10        11        12        13  \\\n",
       "0    -0.343629 -0.761340  0.085336 -0.085336  1.306330 -1.306330  0.402729   \n",
       "1    -0.647517  1.663055  0.085336 -0.085336 -0.765503  0.765503  0.402729   \n",
       "2     0.264146 -0.761340  0.085336 -0.085336 -0.765503  0.765503  0.402729   \n",
       "3     0.264146  0.450857  0.085336 -0.085336  1.306330 -1.306330  0.402729   \n",
       "4    -0.343629  1.663055  0.085336 -0.085336 -0.765503  0.765503  0.402729   \n",
       "...        ...       ...       ...       ...       ...       ...       ...   \n",
       "6191 -0.647517  0.450857  0.085336 -0.085336  1.306330 -1.306330  0.402729   \n",
       "6192 -0.647517  1.663055  0.085336 -0.085336  1.306330 -1.306330  0.402729   \n",
       "6193 -0.647517 -0.761340  0.085336 -0.085336 -0.765503  0.765503  0.402729   \n",
       "6194  0.264146  0.450857  0.085336 -0.085336 -0.765503  0.765503  0.402729   \n",
       "6195 -0.647517 -0.761340  0.085336 -0.085336 -0.765503  0.765503  0.402729   \n",
       "\n",
       "            14  \n",
       "0    -0.402729  \n",
       "1    -0.402729  \n",
       "2    -0.402729  \n",
       "3    -0.402729  \n",
       "4    -0.402729  \n",
       "...        ...  \n",
       "6191 -0.402729  \n",
       "6192 -0.402729  \n",
       "6193 -0.402729  \n",
       "6194 -0.402729  \n",
       "6195 -0.402729  \n",
       "\n",
       "[6196 rows x 15 columns]"
      ]
     },
     "execution_count": 36,
     "metadata": {},
     "output_type": "execute_result"
    }
   ],
   "source": [
    "from sklearn.decomposition import PCA\n",
    "\n",
    "# apllying the PCA for feature reduction\n",
    "\n",
    "pca = PCA(n_components=0.95)\n",
    "pca.fit(X_train)\n",
    "PCA_X_train = pca.transform(X_train)\n",
    "PCA_X_test = pca.transform(X_test)\n",
    "\n",
    "X_train"
   ]
  },
  {
   "cell_type": "code",
   "execution_count": null,
   "metadata": {},
   "outputs": [],
   "source": []
  },
  {
   "cell_type": "markdown",
   "metadata": {},
   "source": [
    "Here, I have not manually set the n_components of the PCA model. We want the explained variance to be between 95–99%. Therefore, i have set the PCA's n_components to 0.95"
   ]
  },
  {
   "cell_type": "markdown",
   "metadata": {},
   "source": [
    "## Developing the MultiLayer Perceptron Model"
   ]
  },
  {
   "cell_type": "code",
   "execution_count": 37,
   "metadata": {},
   "outputs": [],
   "source": [
    "PCA_X_train=np.array(PCA_X_train)\n",
    "PCA_X_test =np.array(PCA_X_test )\n",
    "y_train=np.array(y_train)\n",
    "y_test=np.array(y_test)"
   ]
  },
  {
   "cell_type": "code",
   "execution_count": 38,
   "metadata": {},
   "outputs": [],
   "source": [
    "#import tensorflow libraries \n",
    "from tensorflow.keras import Sequential\n",
    "from tensorflow.keras.layers import Dense\n",
    "from tensorflow.keras.optimizers import SGD"
   ]
  },
  {
   "cell_type": "code",
   "execution_count": 39,
   "metadata": {},
   "outputs": [
    {
     "data": {
      "text/plain": [
       "11"
      ]
     },
     "execution_count": 39,
     "metadata": {},
     "output_type": "execute_result"
    }
   ],
   "source": [
    "# determine the number of input features\n",
    "n_features = PCA_X_train.shape[1]\n",
    "n_features"
   ]
  },
  {
   "cell_type": "code",
   "execution_count": 40,
   "metadata": {},
   "outputs": [],
   "source": [
    "model = Sequential()\n",
    "model.add(Dense(32, activation='sigmoid', kernel_initializer='he_normal', input_shape=(n_features,)))\n",
    "model.add(Dense(1, activation='sigmoid'))"
   ]
  },
  {
   "cell_type": "code",
   "execution_count": 41,
   "metadata": {},
   "outputs": [],
   "source": [
    "n_epochs = 50\n",
    "learning_rate = 0.1\n",
    "decay_rate = learning_rate / n_epochs\n",
    "momentum = 0.8\n",
    "sgd = SGD(lr=learning_rate, momentum=momentum, decay=decay_rate, nesterov=False)"
   ]
  },
  {
   "cell_type": "code",
   "execution_count": 42,
   "metadata": {},
   "outputs": [],
   "source": [
    "# compile the model\n",
    "model.compile(optimizer=sgd, loss='binary_crossentropy', metrics=['accuracy'])"
   ]
  },
  {
   "cell_type": "code",
   "execution_count": 43,
   "metadata": {},
   "outputs": [
    {
     "data": {
      "text/plain": [
       "<tensorflow.python.keras.callbacks.History at 0x7f886811fc10>"
      ]
     },
     "execution_count": 43,
     "metadata": {},
     "output_type": "execute_result"
    }
   ],
   "source": [
    "# fit the model\n",
    "model.fit(PCA_X_train, y_train, epochs=n_epochs, batch_size=32, verbose=0)"
   ]
  },
  {
   "cell_type": "code",
   "execution_count": 44,
   "metadata": {},
   "outputs": [
    {
     "name": "stdout",
     "output_type": "stream",
     "text": [
      "Test Accuracy: 81.806 \n"
     ]
    }
   ],
   "source": [
    "loss, acc = model.evaluate(PCA_X_test, y_test, verbose=0)\n",
    "print('Test Accuracy: %.3f ' % (acc * 100.0))"
   ]
  },
  {
   "cell_type": "code",
   "execution_count": 45,
   "metadata": {},
   "outputs": [
    {
     "data": {
      "text/plain": [
       "<Figure size 576x576 with 0 Axes>"
      ]
     },
     "metadata": {},
     "output_type": "display_data"
    },
    {
     "data": {
      "image/png": "[encoded data removed]",
      "text/plain": [
       "<Figure size 432x288 with 2 Axes>"
      ]
     },
     "metadata": {
      "needs_background": "light"
     },
     "output_type": "display_data"
    }
   ],
   "source": [
    "from sklearn.metrics import classification_report, confusion_matrix\n",
    "\n",
    "predictions = model.predict(PCA_X_test)\n",
    "\n",
    "# custom classifier \n",
    "predictions = model.predict(PCA_X_test)\n",
    "data = []\n",
    "for x in predictions:\n",
    "    if x[0] > 0.5:\n",
    "        data.append(1)\n",
    "    else:\n",
    "        data.append(0)\n",
    "\n",
    "# confusion matrix \n",
    "cnf_matrix = confusion_matrix(y_test, data)\n",
    "plt.figure(figsize = (8,8))\n",
    "fig, ax = plt.subplots(1)\n",
    "ax = sns.heatmap(cnf_matrix, ax=ax, annot=True)\n",
    "plt.title('Confusion matrix')\n",
    "plt.ylabel('True category')\n",
    "plt.xlabel('Predicted category')\n",
    "plt.show()  "
   ]
  },
  {
   "cell_type": "code",
   "execution_count": 46,
   "metadata": {},
   "outputs": [
    {
     "name": "stdout",
     "output_type": "stream",
     "text": [
      "MLP (NN) : \n",
      "               precision    recall  f1-score   support\n",
      "\n",
      "           0       0.83      0.95      0.89      1189\n",
      "           1       0.70      0.38      0.49       361\n",
      "\n",
      "    accuracy                           0.82      1550\n",
      "   macro avg       0.77      0.67      0.69      1550\n",
      "weighted avg       0.80      0.82      0.80      1550\n",
      " \n",
      "\n"
     ]
    }
   ],
   "source": [
    "print('MLP (NN) : \\n', classification_report(y_test, data),'\\n')"
   ]
  },
  {
   "cell_type": "code",
   "execution_count": null,
   "metadata": {},
   "outputs": [],
   "source": []
  },
  {
   "cell_type": "code",
   "execution_count": null,
   "metadata": {},
   "outputs": [],
   "source": []
  }
 ],
 "metadata": {
  "kernelspec": {
   "display_name": "Python 3",
   "language": "python",
   "name": "python3"
  },
  "language_info": {
   "codemirror_mode": {
    "name": "ipython",
    "version": 3
   },
   "file_extension": ".py",
   "mimetype": "text/x-python",
   "name": "python",
   "nbconvert_exporter": "python",
   "pygments_lexer": "ipython3",
   "version": "3.7.6"
  }
 },
 "nbformat": 4,
 "nbformat_minor": 4
}
